{
 "cells": [
  {
   "cell_type": "code",
   "execution_count": 2,
   "metadata": {},
   "outputs": [
    {
     "name": "stderr",
     "output_type": "stream",
     "text": [
      "/Users/ncg/.local/share/virtualenvs/atlas-f2U08CBN/lib/python3.6/site-packages/pandas/compat/__init__.py:120: UserWarning: Could not import the lzma module. Your installed Python is incomplete. Attempting to use lzma compression will result in a RuntimeError.\n",
      "  warnings.warn(msg)\n"
     ]
    }
   ],
   "source": [
    "# for site information\n",
    "import urllib.request as url\n",
    "from bs4 import BeautifulSoup as soup\n",
    "from datetime import datetime\n",
    "import re\n",
    "\n",
    "# for geographic information\n",
    "import spacy\n",
    "nlp = spacy.load('en_core_web_sm')\n",
    "import pandas as pd\n",
    "\n",
    "# for taxonomy information\n",
    "\n",
    "# stuff to access the Google API client\n",
    "import pickle\n",
    "import os.path\n",
    "from googleapiclient.discovery import build\n",
    "from google_auth_oauthlib.flow import InstalledAppFlow\n",
    "from google.auth.transport.requests import Request"
   ]
  },
  {
   "cell_type": "code",
   "execution_count": 3,
   "metadata": {},
   "outputs": [],
   "source": [
    "if os.path.exists('token.pickle'):\n",
    "    with open('token.pickle', 'rb') as token:\n",
    "        creds = pickle.load(token)"
   ]
  },
  {
   "cell_type": "code",
   "execution_count": 4,
   "metadata": {},
   "outputs": [],
   "source": [
    "# this accesses the google database I use to get geographic info\n",
    "SCOPES = ['https://www.googleapis.com/auth/spreadsheets.readonly']\n",
    "\n",
    "ATLAS_ID = '1RC8N4wosbYuf5ikCRpL9H5aV1uuxJumHCDO95zH8osA'\n",
    "ATLAS_RANGE = 'Main!A1:P1168'\n",
    "\n",
    "GEOTAG_ID = '19X7PwbLrKLGJySaFSHr5Pze-VRM-6l_9EOqXDu43T3k'\n",
    "GEOTAG_RANGE = 'Sheet1!A1:E171'\n",
    "\n",
    "service = build('sheets', 'v4', credentials=creds)\n",
    "sheet = service.spreadsheets()"
   ]
  },
  {
   "cell_type": "code",
   "execution_count": 5,
   "metadata": {},
   "outputs": [],
   "source": [
    "atlas_result = sheet.values().get(spreadsheetId=ATLAS_ID,\n",
    "                                range=ATLAS_RANGE).execute()\n",
    "geotag_result = sheet.values().get(spreadsheetId=GEOTAG_ID,\n",
    "                                range=GEOTAG_RANGE).execute()"
   ]
  },
  {
   "cell_type": "code",
   "execution_count": 6,
   "metadata": {},
   "outputs": [],
   "source": [
    "atlas_values = atlas_result.get('values', [])\n",
    "geotag_values = geotag_result.get('values', [])"
   ]
  },
  {
   "cell_type": "code",
   "execution_count": 7,
   "metadata": {},
   "outputs": [],
   "source": [
    "def create_df_with_first_row_headers(sheets_values):\n",
    "    df = pd.DataFrame(sheets_values)\n",
    "    \n",
    "    # replaces first row of dataframe with the headers b/c it's not automatic\n",
    "    headers = df.iloc[0]\n",
    "    df = df[1:]\n",
    "    df.columns = headers\n",
    "    \n",
    "    return df"
   ]
  },
  {
   "cell_type": "code",
   "execution_count": 8,
   "metadata": {},
   "outputs": [],
   "source": [
    "atlas_df = create_df_with_first_row_headers(atlas_values)\n",
    "geotag_df = create_df_with_first_row_headers(geotag_values)"
   ]
  },
  {
   "cell_type": "code",
   "execution_count": 19,
   "metadata": {},
   "outputs": [],
   "source": [
    "def check_for_duplicate(item, col, df):\n",
    "    if len(df.loc[df[col] == item]) > 0:\n",
    "        return True\n",
    "    else:\n",
    "        return False"
   ]
  },
  {
   "cell_type": "code",
   "execution_count": 23,
   "metadata": {},
   "outputs": [],
   "source": [
    "link = 'https://foreignpolicy.com/2020/09/22/taliban-afghanistan-mining-peace-talks/'"
   ]
  },
  {
   "cell_type": "code",
   "execution_count": 26,
   "metadata": {},
   "outputs": [
    {
     "data": {
      "text/plain": [
       "False"
      ]
     },
     "execution_count": 26,
     "metadata": {},
     "output_type": "execute_result"
    }
   ],
   "source": [
    "check_for_duplicate(link, 'Link', atlas_df)"
   ]
  },
  {
   "cell_type": "code",
   "execution_count": 27,
   "metadata": {},
   "outputs": [],
   "source": [
    "article = soup(url.urlopen(link), 'html.parser')"
   ]
  },
  {
   "cell_type": "code",
   "execution_count": 32,
   "metadata": {},
   "outputs": [
    {
     "data": {
      "text/plain": [
       "'The Taliban, at Least, Are Striking Gold in Afghanistan'"
      ]
     },
     "execution_count": 32,
     "metadata": {},
     "output_type": "execute_result"
    }
   ],
   "source": [
    "article.find('h1', class_='hed').text"
   ]
  },
  {
   "cell_type": "code",
   "execution_count": 33,
   "metadata": {},
   "outputs": [
    {
     "data": {
      "text/plain": [
       "'The militant group mines almost half a billion dollars a year from Afghan soil—and wants more.'"
      ]
     },
     "execution_count": 33,
     "metadata": {},
     "output_type": "execute_result"
    }
   ],
   "source": [
    "article.find('h2', class_='dek-heading').text"
   ]
  },
  {
   "cell_type": "code",
   "execution_count": 43,
   "metadata": {},
   "outputs": [],
   "source": [
    "# the date's a bit complicated because it's not on the first page\n",
    "    #    and contains significant formatting that interferes with the \n",
    "    #    the scrape.\n",
    "def get_date(date):\n",
    "\n",
    "    def clean_date(date):\n",
    "        regex = re.sub(r'\\n', '', date)\n",
    "        regex = re.sub(r',', '', regex)\n",
    "        regex = re.sub(r'\\s*..:..\\s..', '', regex)\n",
    "        return regex\n",
    "\n",
    "    date = clean_date(date)\n",
    "    date = datetime.strftime(datetime.strptime(date, '%B %d %Y'), '%m/%d/%Y')\n",
    "    return date"
   ]
  },
  {
   "cell_type": "code",
   "execution_count": 44,
   "metadata": {},
   "outputs": [
    {
     "data": {
      "text/plain": [
       "'09/22/2020'"
      ]
     },
     "execution_count": 44,
     "metadata": {},
     "output_type": "execute_result"
    }
   ],
   "source": [
    "get_date(article.find_all('time')[0].text)"
   ]
  },
  {
   "cell_type": "code",
   "execution_count": 57,
   "metadata": {},
   "outputs": [
    {
     "data": {
      "text/plain": [
       "'Lynne O’Donnell'"
      ]
     },
     "execution_count": 57,
     "metadata": {},
     "output_type": "execute_result"
    }
   ],
   "source": [
    "re.sub('[\\ \\n]{2,}', '', article.find('span', class_='pre').parent.findNext('a').text)"
   ]
  },
  {
   "cell_type": "code",
   "execution_count": null,
   "metadata": {},
   "outputs": [],
   "source": []
  }
 ],
 "metadata": {
  "kernelspec": {
   "display_name": "Python 3",
   "language": "python",
   "name": "python3"
  },
  "language_info": {
   "codemirror_mode": {
    "name": "ipython",
    "version": 3
   },
   "file_extension": ".py",
   "mimetype": "text/x-python",
   "name": "python",
   "nbconvert_exporter": "python",
   "pygments_lexer": "ipython3",
   "version": "3.6.6"
  }
 },
 "nbformat": 4,
 "nbformat_minor": 4
}
