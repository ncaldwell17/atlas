{
 "cells": [
  {
   "cell_type": "code",
   "execution_count": 34,
   "metadata": {},
   "outputs": [],
   "source": [
    "# for site information\n",
    "from urllib.parse import urlparse\n",
    "import urllib.request as url\n",
    "from bs4 import BeautifulSoup as soup"
   ]
  },
  {
   "cell_type": "code",
   "execution_count": 7,
   "metadata": {},
   "outputs": [],
   "source": [
    "foreign_policy = 'https://foreignpolicy.com/'"
   ]
  },
  {
   "cell_type": "code",
   "execution_count": 3,
   "metadata": {},
   "outputs": [
    {
     "name": "stderr",
     "output_type": "stream",
     "text": [
      "/Users/ncg/.local/share/virtualenvs/atlas-f2U08CBN/lib/python3.6/site-packages/pandas/compat/__init__.py:120: UserWarning: Could not import the lzma module. Your installed Python is incomplete. Attempting to use lzma compression will result in a RuntimeError.\n",
      "  warnings.warn(msg)\n"
     ]
    }
   ],
   "source": [
    "import pandas as pd\n",
    "import pickle\n",
    "import os.path\n",
    "from googleapiclient.discovery import build\n",
    "from google_auth_oauthlib.flow import InstalledAppFlow\n",
    "from google.auth.transport.requests import Request"
   ]
  },
  {
   "cell_type": "code",
   "execution_count": 74,
   "metadata": {},
   "outputs": [],
   "source": [
    "if os.path.exists('token.pickle'):\n",
    "    with open('token.pickle', 'rb') as token:\n",
    "        creds = pickle.load(token)\n",
    "\n",
    "# this accesses the google database I use to get geographic info\n",
    "SCOPES = ['https://www.googleapis.com/auth/spreadsheets.readonly']\n",
    "\n",
    "ATLAS_ID = '1RC8N4wosbYuf5ikCRpL9H5aV1uuxJumHCDO95zH8osA'\n",
    "ATLAS_RANGE = 'Main!A1:P1170'\n",
    "\n",
    "service = build('sheets', 'v4', credentials=creds)\n",
    "sheet = service.spreadsheets()\n",
    "\n",
    "atlas_result = sheet.values().get(spreadsheetId=ATLAS_ID,\n",
    "                                range=ATLAS_RANGE).execute()\n",
    "atlas_values = atlas_result.get('values', [])\n",
    "\n",
    "def create_df_with_first_row_headers(sheets_values):\n",
    "    df = pd.DataFrame(sheets_values)\n",
    "    \n",
    "    # replaces first row of dataframe with the headers b/c it's not automatic\n",
    "    headers = df.iloc[0]\n",
    "    df = df[1:]\n",
    "    df.columns = headers\n",
    "    \n",
    "    return df\n",
    "\n",
    "atlas_df = create_df_with_first_row_headers(atlas_values)\n",
    "\n",
    "def check_for_duplicate(item, col, df):\n",
    "    if len(df.loc[df[col] == item]) > 0:\n",
    "        return True\n",
    "    else:\n",
    "        return False\n",
    "    \n",
    "def remove_list_duplicates(_list):\n",
    "    rmv_dup = list()\n",
    "    for item in _list:\n",
    "        if item in rmv_dup:\n",
    "            pass\n",
    "        else:\n",
    "            rmv_dup.append(item)\n",
    "    \n",
    "    return rmv_dup\n",
    "\n",
    "# the FP site's main page contains links that interfere with the dedup\n",
    "#    process b/c they're the same link, they just begin with dates.\n",
    "def remove_non_https(_list):\n",
    "    rmv_non = list()\n",
    "    for item in _list:\n",
    "        if urlparse(item).scheme == 'https':\n",
    "            rmv_non.append(item)\n",
    "        else:\n",
    "            pass\n",
    "    \n",
    "    return rmv_non\n",
    "\n",
    "# also removes invalid articles, like their featured projects\n",
    "def remove_old_articles(_list, month_as_int):\n",
    "    rmv_old = list()\n",
    "    for item in _list:\n",
    "        try:\n",
    "            if int(urlparse(item).path[6:8]) < month_as_int:\n",
    "                pass\n",
    "            else:\n",
    "                rmv_old.append(item)\n",
    "        except ValueError:\n",
    "            pass\n",
    "    \n",
    "    return rmv_old\n",
    "\n",
    "def remove_atlas_duplicates(_list):\n",
    "    rmv_atlas = list()\n",
    "    for item in _list:\n",
    "        if check_for_duplicate(item, 'Link', atlas_df):\n",
    "            pass\n",
    "        else:\n",
    "            rmv_atlas.append(item)\n",
    "    return rmv_atlas"
   ]
  },
  {
   "cell_type": "code",
   "execution_count": 75,
   "metadata": {},
   "outputs": [],
   "source": [
    "front_page = soup(url.urlopen(foreign_policy), 'html.parser')"
   ]
  },
  {
   "cell_type": "code",
   "execution_count": 76,
   "metadata": {},
   "outputs": [
    {
     "data": {
      "text/plain": [
       "59"
      ]
     },
     "execution_count": 76,
     "metadata": {},
     "output_type": "execute_result"
    }
   ],
   "source": [
    "len(front_page.find_all('a', class_='hed-heading'))"
   ]
  },
  {
   "cell_type": "code",
   "execution_count": 77,
   "metadata": {},
   "outputs": [
    {
     "data": {
      "text/plain": [
       "22"
      ]
     },
     "execution_count": 77,
     "metadata": {},
     "output_type": "execute_result"
    }
   ],
   "source": [
    "links = list()\n",
    "for section in front_page.find_all('a', class_='hed-heading'):\n",
    "    links.append(section['href'])\n",
    "\n",
    "links = remove_list_duplicates(links)\n",
    "links = remove_non_https(links)\n",
    "links = remove_old_articles(links, 9)\n",
    "links = remove_atlas_duplicates(links)\n",
    "len(links)"
   ]
  },
  {
   "cell_type": "code",
   "execution_count": 78,
   "metadata": {},
   "outputs": [
    {
     "data": {
      "text/plain": [
       "['https://foreignpolicy.com/2020/09/23/germanys-lateral-thinkers-unite/',\n",
       " 'https://foreignpolicy.com/2020/09/23/italy-mismanagment-covid-19-health-pandemic/',\n",
       " 'https://foreignpolicy.com/2020/09/23/zambia-is-on-the-verge-of-a-pandemic-related-debt-default/',\n",
       " 'https://foreignpolicy.com/2020/09/22/pompeo-trump-2020-elections-state-department-trips-used-for-political-purposes-democrats-accuse-diplomacy-wisconsin-texas-speech/',\n",
       " 'https://foreignpolicy.com/2020/09/22/united-states-need-new-strategic-mindset-infinite-perspective/',\n",
       " 'https://foreignpolicy.com/2020/09/22/taliban-afghanistan-mining-peace-talks/',\n",
       " 'https://foreignpolicy.com/2020/09/22/the-ethiopian-egyptian-water-war-has-begun/',\n",
       " 'https://foreignpolicy.com/2020/09/21/what-the-u-n-is-good-for-or-could-be/',\n",
       " 'https://foreignpolicy.com/2020/09/22/critics-misrepresent-commission-unalienable-rights/',\n",
       " 'https://foreignpolicy.com/2020/09/21/much-maligned-but-still-necessary-the-u-n-at-75/',\n",
       " 'https://foreignpolicy.com/2020/09/22/minnesota-somali-americans-trump-biden-2020-election/',\n",
       " 'https://foreignpolicy.com/2020/09/22/two-party-collapse-republican-democrat-doom-loop/',\n",
       " 'https://foreignpolicy.com/2020/09/10/trump-biden-asia-credibility-problem/',\n",
       " 'https://foreignpolicy.com/2020/09/21/repairing-humanitys-relationship-with-the-planet-will-be-cheaper-than-continuing-to-let-it-slide/',\n",
       " 'https://foreignpolicy.com/2020/09/21/us-isolated-un-iran-snapback-sanctions-trump-pompeo/',\n",
       " 'https://foreignpolicy.com/2020/09/21/counting-presidential-dead-distraction-coronavirus-pandemic-donald-trump-george-bush/',\n",
       " 'https://foreignpolicy.com/2020/09/21/biden-or-trump-the-u-s-brazil-relationship-is-still-headed-for-trouble/',\n",
       " 'https://foreignpolicy.com/2020/09/21/brexit-break-britain-scotland-independence/',\n",
       " 'https://foreignpolicy.com/2020/09/21/pankaj-mishra-you-can-only-see-liberalism-from-the-bottom/',\n",
       " 'https://foreignpolicy.com/2020/09/21/trumps-policies-have-convinced-iran-to-build-a-more-advanced-nuclear-program-before-negotiating/',\n",
       " 'https://foreignpolicy.com/2020/09/22/walt-gavin-liberalism-foreign-policy-blob-really-blameless/',\n",
       " 'https://foreignpolicy.com/2020/09/14/joe-biden-diplomacy-skepticism-actually-listening/']"
      ]
     },
     "execution_count": 78,
     "metadata": {},
     "output_type": "execute_result"
    }
   ],
   "source": [
    "links"
   ]
  }
 ],
 "metadata": {
  "kernelspec": {
   "display_name": "Python 3",
   "language": "python",
   "name": "python3"
  },
  "language_info": {
   "codemirror_mode": {
    "name": "ipython",
    "version": 3
   },
   "file_extension": ".py",
   "mimetype": "text/x-python",
   "name": "python",
   "nbconvert_exporter": "python",
   "pygments_lexer": "ipython3",
   "version": "3.6.6"
  }
 },
 "nbformat": 4,
 "nbformat_minor": 4
}
