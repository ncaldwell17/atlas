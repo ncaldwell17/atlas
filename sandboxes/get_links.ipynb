{
 "cells": [
  {
   "cell_type": "code",
   "execution_count": 1,
   "metadata": {},
   "outputs": [
    {
     "name": "stderr",
     "output_type": "stream",
     "text": [
      "/Users/ncg/.local/share/virtualenvs/atlas-f2U08CBN/lib/python3.6/site-packages/pandas/compat/__init__.py:120: UserWarning: Could not import the lzma module. Your installed Python is incomplete. Attempting to use lzma compression will result in a RuntimeError.\n",
      "  warnings.warn(msg)\n"
     ]
    }
   ],
   "source": [
    "# for site information\n",
    "from urllib.parse import urlparse\n",
    "import urllib.request as url\n",
    "from bs4 import BeautifulSoup as soup\n",
    "\n",
    "from foreignpolicy_scraper import ForeignPolicyScraper"
   ]
  },
  {
   "cell_type": "code",
   "execution_count": 2,
   "metadata": {},
   "outputs": [],
   "source": [
    "foreign_policy = 'https://foreignpolicy.com/'"
   ]
  },
  {
   "cell_type": "code",
   "execution_count": 3,
   "metadata": {},
   "outputs": [],
   "source": [
    "import pandas as pd\n",
    "import pickle\n",
    "import os.path\n",
    "from googleapiclient.discovery import build\n",
    "from google_auth_oauthlib.flow import InstalledAppFlow\n",
    "from google.auth.transport.requests import Request"
   ]
  },
  {
   "cell_type": "code",
   "execution_count": 4,
   "metadata": {},
   "outputs": [],
   "source": [
    "if os.path.exists('token.pickle'):\n",
    "    with open('token.pickle', 'rb') as token:\n",
    "        creds = pickle.load(token)\n",
    "\n",
    "# this accesses the google database I use to get geographic info\n",
    "SCOPES = ['https://www.googleapis.com/auth/spreadsheets.readonly']\n",
    "\n",
    "ATLAS_ID = '1RC8N4wosbYuf5ikCRpL9H5aV1uuxJumHCDO95zH8osA'\n",
    "ATLAS_RANGE = 'Main!A1:P1170'\n",
    "\n",
    "service = build('sheets', 'v4', credentials=creds)\n",
    "sheet = service.spreadsheets()\n",
    "\n",
    "atlas_result = sheet.values().get(spreadsheetId=ATLAS_ID,\n",
    "                                range=ATLAS_RANGE).execute()\n",
    "atlas_values = atlas_result.get('values', [])\n",
    "\n",
    "def create_df_with_first_row_headers(sheets_values):\n",
    "    df = pd.DataFrame(sheets_values)\n",
    "    \n",
    "    # replaces first row of dataframe with the headers b/c it's not automatic\n",
    "    headers = df.iloc[0]\n",
    "    df = df[1:]\n",
    "    df.columns = headers\n",
    "    \n",
    "    return df\n",
    "\n",
    "atlas_df = create_df_with_first_row_headers(atlas_values)\n",
    "\n",
    "def check_for_duplicate(item, col, df):\n",
    "    if len(df.loc[df[col] == item]) > 0:\n",
    "        return True\n",
    "    else:\n",
    "        return False\n",
    "    \n",
    "def remove_list_duplicates(_list):\n",
    "    seen = set()\n",
    "    for x in _list:\n",
    "        if x not in seen:\n",
    "            yield x\n",
    "            seen.add(x)\n",
    "\n",
    "# the FP site's main page contains links that interfere with the dedup\n",
    "#    process b/c they're the same link, they just begin with dates.\n",
    "def remove_non_https(_list):\n",
    "    for x in _list:\n",
    "        if urlparse(x).scheme == 'https':\n",
    "            yield x\n",
    "        else:\n",
    "            pass\n",
    "\n",
    "# also removes invalid articles, like their featured projects\n",
    "def remove_old_articles(_list, month_as_int):\n",
    "    for x in _list:\n",
    "        try:\n",
    "            if int(urlparse(x).path[6:8]) < month_as_int:\n",
    "                pass\n",
    "            else:\n",
    "                yield x\n",
    "        except ValueError:\n",
    "            pass\n",
    "\n",
    "def remove_atlas_duplicates(_list):\n",
    "    for x in _list:\n",
    "        if check_for_duplicate(x, 'Link', atlas_df):\n",
    "            pass\n",
    "        else:\n",
    "            yield x\n",
    "\n",
    "# _list is a list of urls from the Foreign Policy page.\n",
    "def remove_non_applicables(_list):\n",
    "    for x in _list:\n",
    "        if ForeignPolicyScraper(x).label == 'none':\n",
    "            pass\n",
    "        else:\n",
    "            yield (x, ForeignPolicyScraper(x).label)"
   ]
  },
  {
   "cell_type": "code",
   "execution_count": 5,
   "metadata": {},
   "outputs": [],
   "source": [
    "front_page = soup(url.urlopen(foreign_policy), 'html.parser')\n",
    "len(front_page.find_all('a', class_='hed-heading'))\n",
    "\n",
    "links = list()\n",
    "for section in front_page.find_all('a', class_='hed-heading'):\n",
    "    links.append(section['href'])\n",
    "\n",
    "# remember, these are all FP specific, they don't work for other sites\n",
    "links = remove_list_duplicates(links)\n",
    "links = remove_non_https(links)\n",
    "links = remove_old_articles(links, 9)\n",
    "links = remove_atlas_duplicates(links)\n",
    "links = list(remove_non_applicables(links))"
   ]
  },
  {
   "cell_type": "code",
   "execution_count": 7,
   "metadata": {},
   "outputs": [
    {
     "data": {
      "text/plain": [
       "'Russia'"
      ]
     },
     "execution_count": 7,
     "metadata": {},
     "output_type": "execute_result"
    }
   ],
   "source": [
    "ForeignPolicyScraper(links[0][0]).country"
   ]
  },
  {
   "cell_type": "code",
   "execution_count": null,
   "metadata": {},
   "outputs": [],
   "source": []
  }
 ],
 "metadata": {
  "kernelspec": {
   "display_name": "Python 3",
   "language": "python",
   "name": "python3"
  },
  "language_info": {
   "codemirror_mode": {
    "name": "ipython",
    "version": 3
   },
   "file_extension": ".py",
   "mimetype": "text/x-python",
   "name": "python",
   "nbconvert_exporter": "python",
   "pygments_lexer": "ipython3",
   "version": "3.6.6"
  }
 },
 "nbformat": 4,
 "nbformat_minor": 4
}
